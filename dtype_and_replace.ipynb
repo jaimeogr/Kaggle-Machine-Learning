{
 "cells": [
  {
   "cell_type": "code",
   "execution_count": 46,
   "metadata": {},
   "outputs": [
    {
     "name": "stdout",
     "output_type": "stream",
     "text": [
      "Setup complete.\n"
     ]
    }
   ],
   "source": [
    "import pandas as pd\n",
    "\n",
    "reviews = pd.read_csv(\"./winemag-data-130k-v2.csv\", index_col=0)\n",
    "\n",
    "print(\"Setup complete.\")"
   ]
  },
  {
   "cell_type": "code",
   "execution_count": 47,
   "metadata": {},
   "outputs": [
    {
     "data": {
      "text/plain": [
       "dtype('int64')"
      ]
     },
     "execution_count": 47,
     "metadata": {},
     "output_type": "execute_result"
    }
   ],
   "source": [
    "reviews.points.dtype"
   ]
  },
  {
   "cell_type": "code",
   "execution_count": 48,
   "metadata": {},
   "outputs": [
    {
     "data": {
      "text/plain": [
       "0         87\n",
       "1         87\n",
       "2         87\n",
       "3         87\n",
       "4         87\n",
       "          ..\n",
       "129966    90\n",
       "129967    90\n",
       "129968    90\n",
       "129969    90\n",
       "129970    90\n",
       "Name: points, Length: 129971, dtype: object"
      ]
     },
     "execution_count": 48,
     "metadata": {},
     "output_type": "execute_result"
    }
   ],
   "source": [
    "reviews.points.astype(str)"
   ]
  },
  {
   "cell_type": "code",
   "execution_count": 49,
   "metadata": {},
   "outputs": [
    {
     "name": "stderr",
     "output_type": "stream",
     "text": [
      "C:\\Users\\jaime\\AppData\\Local\\Temp\\ipykernel_6776\\1939915578.py:1: FutureWarning: Series.__getitem__ treating keys as positions is deprecated. In a future version, integer keys will always be treated as labels (consistent with DataFrame behavior). To access a value by position, use `ser.iloc[pos]`\n",
      "  pd.isnull(reviews.price).value_counts()[1]\n"
     ]
    },
    {
     "data": {
      "text/plain": [
       "np.int64(8996)"
      ]
     },
     "execution_count": 49,
     "metadata": {},
     "output_type": "execute_result"
    }
   ],
   "source": [
    "pd.isnull(reviews.price).value_counts()[1]"
   ]
  },
  {
   "cell_type": "code",
   "execution_count": 54,
   "metadata": {},
   "outputs": [
    {
     "data": {
      "text/plain": [
       "region_1\n",
       "Unknown                               21247\n",
       "Napa Valley                            4480\n",
       "Columbia Valley (WA)                   4124\n",
       "Russian River Valley                   3091\n",
       "California                             2629\n",
       "                                      ...  \n",
       "Sonoma-Santa Barbara-Mendocino            1\n",
       "Sonoma County-Santa Barbara County        1\n",
       "Del Veneto                                1\n",
       "Bardolino Superiore                       1\n",
       "Paestum                                   1\n",
       "Name: count, Length: 1230, dtype: int64"
      ]
     },
     "execution_count": 54,
     "metadata": {},
     "output_type": "execute_result"
    }
   ],
   "source": [
    "reviews_per_region = reviews.region_1.fillna('Unknown').value_counts().sort_values(ascending=False)\n",
    "reviews_per_region"
   ]
  },
  {
   "cell_type": "code",
   "execution_count": 55,
   "metadata": {},
   "outputs": [
    {
     "name": "stdout",
     "output_type": "stream",
     "text": [
      "Index(['Unknown', 'Napa Valley', 'Columbia Valley (WA)',\n",
      "       'Russian River Valley', 'California', 'Paso Robles',\n",
      "       'Willamette Valley', 'Mendoza', 'Alsace', 'Champagne',\n",
      "       ...\n",
      "       'Colline Teramane', 'Vino de la Tierra Ribera del Gállego-Cinco Villas',\n",
      "       'Gippsland', 'Dolcetto d'Alba Superiore', 'Falanghina del Molise',\n",
      "       'Sonoma-Santa Barbara-Mendocino', 'Sonoma County-Santa Barbara County',\n",
      "       'Del Veneto', 'Bardolino Superiore', 'Paestum'],\n",
      "      dtype='object', name='region_1', length=1230)\n",
      "region_1\n",
      "count\n",
      "[21247  4480  4124 ...     1     1     1]\n",
      "int64\n"
     ]
    }
   ],
   "source": [
    "# Check the index (labels) of the Series\n",
    "print(reviews_per_region.index)\n",
    "\n",
    "# Check the name of the index\n",
    "print(reviews_per_region.index.name)\n",
    "\n",
    "# Check the name of the Series (values)\n",
    "print(reviews_per_region.name)\n",
    "\n",
    "# Check the values (counts)\n",
    "print(reviews_per_region.values)\n",
    "\n",
    "# Check the data type of the Series\n",
    "print(reviews_per_region.dtype)"
   ]
  }
 ],
 "metadata": {
  "kernelspec": {
   "display_name": "Python 3",
   "language": "python",
   "name": "python3"
  },
  "language_info": {
   "codemirror_mode": {
    "name": "ipython",
    "version": 3
   },
   "file_extension": ".py",
   "mimetype": "text/x-python",
   "name": "python",
   "nbconvert_exporter": "python",
   "pygments_lexer": "ipython3",
   "version": "3.11.9"
  }
 },
 "nbformat": 4,
 "nbformat_minor": 2
}
