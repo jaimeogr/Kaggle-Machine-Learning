{
 "cells": [
  {
   "cell_type": "code",
   "execution_count": 4,
   "metadata": {},
   "outputs": [
    {
     "name": "stdout",
     "output_type": "stream",
     "text": [
      "['hola', 'como', 'estas', 'esto', 'es', 'una', 'lista']\n",
      "['de', 'palabras']\n",
      "['hola', 'como', 'estas']\n",
      "['hola', 'estas', 'es', 'lista', 'palabras']\n"
     ]
    }
   ],
   "source": [
    "lista_de_palabras = ['hola','como','estas','esto','es','una','lista','de','palabras']\n",
    "\n",
    "print(lista_de_palabras[:-2])\n",
    "\n",
    "print(lista_de_palabras[-2:])\n",
    "\n",
    "print(lista_de_palabras[:3])\n",
    "\n",
    "print(lista_de_palabras[::2])\n"
   ]
  }
 ],
 "metadata": {
  "kernelspec": {
   "display_name": "Python 3",
   "language": "python",
   "name": "python3"
  },
  "language_info": {
   "codemirror_mode": {
    "name": "ipython",
    "version": 3
   },
   "file_extension": ".py",
   "mimetype": "text/x-python",
   "name": "python",
   "nbconvert_exporter": "python",
   "pygments_lexer": "ipython3",
   "version": "3.11.9"
  }
 },
 "nbformat": 4,
 "nbformat_minor": 2
}
